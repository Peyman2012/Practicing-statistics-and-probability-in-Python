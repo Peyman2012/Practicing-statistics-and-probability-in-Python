{
 "cells": [
  {
   "cell_type": "code",
   "execution_count": 1,
   "id": "efb13239",
   "metadata": {},
   "outputs": [],
   "source": [
    "import numpy as np\n",
    "import pandas as pd\n",
    "import matplotlib.pyplot as plt\n",
    "from scipy import stats as st\n",
    "import seaborn as sb"
   ]
  },
  {
   "cell_type": "markdown",
   "id": "7e5c5380",
   "metadata": {},
   "source": [
    "# Question 1"
   ]
  },
  {
   "cell_type": "code",
   "execution_count": 2,
   "id": "44319459",
   "metadata": {},
   "outputs": [],
   "source": [
    "nomreh = [17,20,22,27,30,32,35,38,40,45,48,49,42,43,47,46,44,61,69,75]"
   ]
  },
  {
   "cell_type": "code",
   "execution_count": 3,
   "id": "981e6884",
   "metadata": {},
   "outputs": [
    {
     "data": {
      "text/plain": [
       "20"
      ]
     },
     "execution_count": 3,
     "metadata": {},
     "output_type": "execute_result"
    }
   ],
   "source": [
    "len(nomreh)"
   ]
  },
  {
   "cell_type": "code",
   "execution_count": 4,
   "id": "0bf06a15",
   "metadata": {},
   "outputs": [
    {
     "data": {
      "text/plain": [
       "(array([3., 1., 2., 3., 4., 4., 0., 1., 1., 1.]),\n",
       " array([17. , 22.8, 28.6, 34.4, 40.2, 46. , 51.8, 57.6, 63.4, 69.2, 75. ]),\n",
       " <BarContainer object of 10 artists>)"
      ]
     },
     "execution_count": 4,
     "metadata": {},
     "output_type": "execute_result"
    },
    {
     "data": {
      "image/png": "[encoded data removed]",
      "text/plain": [
       "<Figure size 576x432 with 1 Axes>"
      ]
     },
     "metadata": {
      "needs_background": "light"
     },
     "output_type": "display_data"
    }
   ],
   "source": [
    "fig = plt.figure(figsize=(8,6))  \n",
    "plt.hist(nomreh, bins=10)"
   ]
  },
  {
   "cell_type": "code",
   "execution_count": 5,
   "id": "4651c1cd",
   "metadata": {},
   "outputs": [
    {
     "data": {
      "text/plain": [
       "41.5"
      ]
     },
     "execution_count": 5,
     "metadata": {},
     "output_type": "execute_result"
    }
   ],
   "source": [
    "np.mean (nomreh)"
   ]
  },
  {
   "cell_type": "code",
   "execution_count": 6,
   "id": "fa3db2fd",
   "metadata": {},
   "outputs": [
    {
     "data": {
      "text/plain": [
       "0.4505815559494735"
      ]
     },
     "execution_count": 6,
     "metadata": {},
     "output_type": "execute_result"
    }
   ],
   "source": [
    "st.skew (nomreh)"
   ]
  },
  {
   "cell_type": "code",
   "execution_count": 7,
   "id": "05b9a3e8",
   "metadata": {},
   "outputs": [
    {
     "data": {
      "text/plain": [
       "42.5"
      ]
     },
     "execution_count": 7,
     "metadata": {},
     "output_type": "execute_result"
    }
   ],
   "source": [
    "np.median(nomreh)"
   ]
  },
  {
   "cell_type": "code",
   "execution_count": 8,
   "id": "453b770f",
   "metadata": {},
   "outputs": [
    {
     "data": {
      "text/plain": [
       "ModeResult(mode=array([17]), count=array([1]))"
      ]
     },
     "execution_count": 8,
     "metadata": {},
     "output_type": "execute_result"
    }
   ],
   "source": [
    "st.mode(nomreh)"
   ]
  },
  {
   "cell_type": "markdown",
   "id": "62a09b48",
   "metadata": {},
   "source": [
    "# Question 2"
   ]
  },
  {
   "cell_type": "code",
   "execution_count": 9,
   "id": "2ce7923e",
   "metadata": {},
   "outputs": [
    {
     "data": {
      "text/plain": [
       "array([ 0,  5, 10, 15, 20, 25, 30, 35, 40, 45, 50, 55, 60, 65, 70, 75, 80,\n",
       "       85, 90, 95])"
      ]
     },
     "execution_count": 9,
     "metadata": {},
     "output_type": "execute_result"
    }
   ],
   "source": [
    "add = np.arange(0,100,5)\n",
    "add"
   ]
  },
  {
   "cell_type": "code",
   "execution_count": 10,
   "id": "5fb4bca4",
   "metadata": {},
   "outputs": [
    {
     "data": {
      "text/plain": [
       "array([17, 20, 22, 27, 30, 32, 35, 38, 40, 45, 48, 49, 42, 43, 47, 46, 44,\n",
       "       61, 69, 75])"
      ]
     },
     "execution_count": 10,
     "metadata": {},
     "output_type": "execute_result"
    }
   ],
   "source": [
    "n1 = np.array(nomreh)\n",
    "n1"
   ]
  },
  {
   "cell_type": "code",
   "execution_count": 11,
   "id": "6b3962b3",
   "metadata": {},
   "outputs": [
    {
     "data": {
      "text/plain": [
       "20"
      ]
     },
     "execution_count": 11,
     "metadata": {},
     "output_type": "execute_result"
    }
   ],
   "source": [
    "add_1 = list(add)\n",
    "len(add_1)"
   ]
  },
  {
   "cell_type": "code",
   "execution_count": 12,
   "id": "a79a9c6c",
   "metadata": {},
   "outputs": [
    {
     "data": {
      "text/plain": [
       "<BarContainer object of 20 artists>"
      ]
     },
     "execution_count": 12,
     "metadata": {},
     "output_type": "execute_result"
    },
    {
     "data": {
      "image/png": "[encoded data removed]",
      "text/plain": [
       "<Figure size 576x432 with 1 Axes>"
      ]
     },
     "metadata": {
      "needs_background": "light"
     },
     "output_type": "display_data"
    }
   ],
   "source": [
    "fig = plt.figure(figsize=(8,6))  \n",
    "plt.bar(add,nomreh,width=3)"
   ]
  },
  {
   "cell_type": "code",
   "execution_count": 13,
   "id": "74b7d85e",
   "metadata": {},
   "outputs": [
    {
     "data": {
      "text/plain": [
       "[<matplotlib.lines.Line2D at 0x236fc903d30>]"
      ]
     },
     "execution_count": 13,
     "metadata": {},
     "output_type": "execute_result"
    },
    {
     "data": {
      "image/png": "[encoded data removed]",
      "text/plain": [
       "<Figure size 576x432 with 1 Axes>"
      ]
     },
     "metadata": {
      "needs_background": "light"
     },
     "output_type": "display_data"
    }
   ],
   "source": [
    "value,base = np.histogram(nomreh,bins=20)\n",
    "cum = np.cumsum(value)\n",
    "fig = plt.figure(figsize=(8,6))  \n",
    "plt.plot(base[:-1],cum,'b-*')"
   ]
  },
  {
   "cell_type": "markdown",
   "id": "45108a67",
   "metadata": {},
   "source": [
    "The score of 75 is among scattered data "
   ]
  },
  {
   "cell_type": "markdown",
   "id": "5c524010",
   "metadata": {},
   "source": [
    "# Question 3"
   ]
  },
  {
   "cell_type": "code",
   "execution_count": 14,
   "id": "ad6fd312",
   "metadata": {},
   "outputs": [
    {
     "data": {
      "image/png": "[encoded data removed]",
      "text/plain": [
       "<Figure size 576x432 with 1 Axes>"
      ]
     },
     "metadata": {},
     "output_type": "display_data"
    }
   ],
   "source": [
    "vote = []\n",
    "a = \"accept\"\n",
    "b = \"failed\"\n",
    "c = str(a)\n",
    "d = str(b)\n",
    "for i in nomreh:\n",
    "    if i<60:\n",
    "        vote.append(d)\n",
    "    elif i>=60:\n",
    "        vote.append(c)\n",
    "        \n",
    "fig = plt.figure(figsize=(8,6))   \n",
    "plt.pie(nomreh,labels = vote)\n",
    "plt.show()\n",
    "        "
   ]
  },
  {
   "cell_type": "code",
   "execution_count": 15,
   "id": "b485b08c",
   "metadata": {},
   "outputs": [
    {
     "name": "stdout",
     "output_type": "stream",
     "text": [
      "['failed', 'failed', 'failed', 'failed', 'failed', 'failed', 'failed', 'failed', 'failed', 'failed', 'failed', 'failed', 'failed', 'failed', 'failed', 'failed', 'failed', 'accept', 'accept', 'accept']\n"
     ]
    }
   ],
   "source": [
    "print(vote)"
   ]
  },
  {
   "cell_type": "code",
   "execution_count": 16,
   "id": "febd6ce6",
   "metadata": {},
   "outputs": [
    {
     "data": {
      "text/plain": [
       "([<matplotlib.patches.Wedge at 0x236fca14970>,\n",
       "  <matplotlib.patches.Wedge at 0x236fca14eb0>],\n",
       " [Text(-0.9801072140121811, 0.4993894763020951, 'failes'),\n",
       "  Text(0.9801072607683942, -0.4993893845378326, 'accept')])"
      ]
     },
     "execution_count": 16,
     "metadata": {},
     "output_type": "execute_result"
    },
    {
     "data": {
      "image/png": "[encoded data removed]",
      "text/plain": [
       "<Figure size 576x432 with 1 Axes>"
      ]
     },
     "metadata": {},
     "output_type": "display_data"
    }
   ],
   "source": [
    "vote_1 = ['failes','accept']\n",
    "add_2 = [85,15] #About 15% of the people in the class scored above 60 and passed\n",
    "fig = plt.figure(figsize=(8,6))  \n",
    "plt.pie(add_2,labels = vote_1)"
   ]
  },
  {
   "cell_type": "markdown",
   "id": "c3fb71ca",
   "metadata": {},
   "source": [
    "# Question 4"
   ]
  },
  {
   "cell_type": "code",
   "execution_count": 17,
   "id": "acd2c2a6",
   "metadata": {},
   "outputs": [],
   "source": [
    "nomreh_2 = [100,98,97,95,93,90,88,85,83,82,81,79,77,75,72,69,68,20,8,12]"
   ]
  },
  {
   "cell_type": "code",
   "execution_count": 18,
   "id": "fac8acfe",
   "metadata": {},
   "outputs": [
    {
     "data": {
      "text/plain": [
       "(array([2., 1., 0., 0., 0., 0., 3., 4., 5., 5.]),\n",
       " array([  8. ,  17.2,  26.4,  35.6,  44.8,  54. ,  63.2,  72.4,  81.6,\n",
       "         90.8, 100. ]),\n",
       " <BarContainer object of 10 artists>)"
      ]
     },
     "execution_count": 18,
     "metadata": {},
     "output_type": "execute_result"
    },
    {
     "data": {
      "image/png": "[encoded data removed]",
      "text/plain": [
       "<Figure size 576x432 with 1 Axes>"
      ]
     },
     "metadata": {
      "needs_background": "light"
     },
     "output_type": "display_data"
    }
   ],
   "source": [
    "fig = plt.figure(figsize=(8,6))  \n",
    "plt.hist(nomreh_2, bins=10)"
   ]
  },
  {
   "cell_type": "code",
   "execution_count": 19,
   "id": "5ee92ad1",
   "metadata": {},
   "outputs": [
    {
     "data": {
      "text/plain": [
       "-1.5181186035381844"
      ]
     },
     "execution_count": 19,
     "metadata": {},
     "output_type": "execute_result"
    }
   ],
   "source": [
    "st.skew(nomreh_2)"
   ]
  },
  {
   "cell_type": "code",
   "execution_count": 20,
   "id": "3db44b86",
   "metadata": {},
   "outputs": [
    {
     "data": {
      "text/plain": [
       "73.6"
      ]
     },
     "execution_count": 20,
     "metadata": {},
     "output_type": "execute_result"
    }
   ],
   "source": [
    "np.mean (nomreh_2)"
   ]
  },
  {
   "cell_type": "code",
   "execution_count": 21,
   "id": "a484c544",
   "metadata": {},
   "outputs": [
    {
     "data": {
      "text/plain": [
       "81.5"
      ]
     },
     "execution_count": 21,
     "metadata": {},
     "output_type": "execute_result"
    }
   ],
   "source": [
    "np.median(nomreh_2)"
   ]
  },
  {
   "cell_type": "code",
   "execution_count": 22,
   "id": "d9995882",
   "metadata": {},
   "outputs": [
    {
     "data": {
      "text/plain": [
       "ModeResult(mode=array([8]), count=array([1]))"
      ]
     },
     "execution_count": 22,
     "metadata": {},
     "output_type": "execute_result"
    }
   ],
   "source": [
    "st.mode(nomreh_2)"
   ]
  },
  {
   "cell_type": "markdown",
   "id": "5a801391",
   "metadata": {},
   "source": [
    "# Question 5"
   ]
  },
  {
   "cell_type": "code",
   "execution_count": 23,
   "id": "8a42ae81",
   "metadata": {},
   "outputs": [
    {
     "data": {
      "text/html": [
       "<div>\n",
       "<style scoped>\n",
       "    .dataframe tbody tr th:only-of-type {\n",
       "        vertical-align: middle;\n",
       "    }\n",
       "\n",
       "    .dataframe tbody tr th {\n",
       "        vertical-align: top;\n",
       "    }\n",
       "\n",
       "    .dataframe thead th {\n",
       "        text-align: right;\n",
       "    }\n",
       "</style>\n",
       "<table border=\"1\" class=\"dataframe\">\n",
       "  <thead>\n",
       "    <tr style=\"text-align: right;\">\n",
       "      <th></th>\n",
       "      <th>nomreh</th>\n",
       "    </tr>\n",
       "  </thead>\n",
       "  <tbody>\n",
       "    <tr>\n",
       "      <th>0</th>\n",
       "      <td>17</td>\n",
       "    </tr>\n",
       "    <tr>\n",
       "      <th>1</th>\n",
       "      <td>20</td>\n",
       "    </tr>\n",
       "    <tr>\n",
       "      <th>2</th>\n",
       "      <td>22</td>\n",
       "    </tr>\n",
       "    <tr>\n",
       "      <th>3</th>\n",
       "      <td>27</td>\n",
       "    </tr>\n",
       "    <tr>\n",
       "      <th>4</th>\n",
       "      <td>30</td>\n",
       "    </tr>\n",
       "    <tr>\n",
       "      <th>5</th>\n",
       "      <td>32</td>\n",
       "    </tr>\n",
       "    <tr>\n",
       "      <th>6</th>\n",
       "      <td>35</td>\n",
       "    </tr>\n",
       "    <tr>\n",
       "      <th>7</th>\n",
       "      <td>38</td>\n",
       "    </tr>\n",
       "    <tr>\n",
       "      <th>8</th>\n",
       "      <td>40</td>\n",
       "    </tr>\n",
       "    <tr>\n",
       "      <th>9</th>\n",
       "      <td>45</td>\n",
       "    </tr>\n",
       "    <tr>\n",
       "      <th>10</th>\n",
       "      <td>48</td>\n",
       "    </tr>\n",
       "    <tr>\n",
       "      <th>11</th>\n",
       "      <td>49</td>\n",
       "    </tr>\n",
       "    <tr>\n",
       "      <th>12</th>\n",
       "      <td>42</td>\n",
       "    </tr>\n",
       "    <tr>\n",
       "      <th>13</th>\n",
       "      <td>43</td>\n",
       "    </tr>\n",
       "    <tr>\n",
       "      <th>14</th>\n",
       "      <td>47</td>\n",
       "    </tr>\n",
       "    <tr>\n",
       "      <th>15</th>\n",
       "      <td>46</td>\n",
       "    </tr>\n",
       "    <tr>\n",
       "      <th>16</th>\n",
       "      <td>44</td>\n",
       "    </tr>\n",
       "    <tr>\n",
       "      <th>17</th>\n",
       "      <td>61</td>\n",
       "    </tr>\n",
       "    <tr>\n",
       "      <th>18</th>\n",
       "      <td>69</td>\n",
       "    </tr>\n",
       "    <tr>\n",
       "      <th>19</th>\n",
       "      <td>75</td>\n",
       "    </tr>\n",
       "  </tbody>\n",
       "</table>\n",
       "</div>"
      ],
      "text/plain": [
       "    nomreh\n",
       "0       17\n",
       "1       20\n",
       "2       22\n",
       "3       27\n",
       "4       30\n",
       "5       32\n",
       "6       35\n",
       "7       38\n",
       "8       40\n",
       "9       45\n",
       "10      48\n",
       "11      49\n",
       "12      42\n",
       "13      43\n",
       "14      47\n",
       "15      46\n",
       "16      44\n",
       "17      61\n",
       "18      69\n",
       "19      75"
      ]
     },
     "execution_count": 23,
     "metadata": {},
     "output_type": "execute_result"
    }
   ],
   "source": [
    "normal = pd.read_excel('normal.xlsx')\n",
    "normal"
   ]
  },
  {
   "cell_type": "code",
   "execution_count": 24,
   "id": "2ebd163e",
   "metadata": {},
   "outputs": [
    {
     "data": {
      "text/html": [
       "<div>\n",
       "<style scoped>\n",
       "    .dataframe tbody tr th:only-of-type {\n",
       "        vertical-align: middle;\n",
       "    }\n",
       "\n",
       "    .dataframe tbody tr th {\n",
       "        vertical-align: top;\n",
       "    }\n",
       "\n",
       "    .dataframe thead th {\n",
       "        text-align: right;\n",
       "    }\n",
       "</style>\n",
       "<table border=\"1\" class=\"dataframe\">\n",
       "  <thead>\n",
       "    <tr style=\"text-align: right;\">\n",
       "      <th></th>\n",
       "      <th>nomreh</th>\n",
       "    </tr>\n",
       "  </thead>\n",
       "  <tbody>\n",
       "    <tr>\n",
       "      <th>0</th>\n",
       "      <td>100</td>\n",
       "    </tr>\n",
       "    <tr>\n",
       "      <th>1</th>\n",
       "      <td>98</td>\n",
       "    </tr>\n",
       "    <tr>\n",
       "      <th>2</th>\n",
       "      <td>97</td>\n",
       "    </tr>\n",
       "    <tr>\n",
       "      <th>3</th>\n",
       "      <td>95</td>\n",
       "    </tr>\n",
       "    <tr>\n",
       "      <th>4</th>\n",
       "      <td>93</td>\n",
       "    </tr>\n",
       "    <tr>\n",
       "      <th>5</th>\n",
       "      <td>90</td>\n",
       "    </tr>\n",
       "    <tr>\n",
       "      <th>6</th>\n",
       "      <td>88</td>\n",
       "    </tr>\n",
       "    <tr>\n",
       "      <th>7</th>\n",
       "      <td>85</td>\n",
       "    </tr>\n",
       "    <tr>\n",
       "      <th>8</th>\n",
       "      <td>83</td>\n",
       "    </tr>\n",
       "    <tr>\n",
       "      <th>9</th>\n",
       "      <td>82</td>\n",
       "    </tr>\n",
       "    <tr>\n",
       "      <th>10</th>\n",
       "      <td>81</td>\n",
       "    </tr>\n",
       "    <tr>\n",
       "      <th>11</th>\n",
       "      <td>79</td>\n",
       "    </tr>\n",
       "    <tr>\n",
       "      <th>12</th>\n",
       "      <td>77</td>\n",
       "    </tr>\n",
       "    <tr>\n",
       "      <th>13</th>\n",
       "      <td>75</td>\n",
       "    </tr>\n",
       "    <tr>\n",
       "      <th>14</th>\n",
       "      <td>72</td>\n",
       "    </tr>\n",
       "    <tr>\n",
       "      <th>15</th>\n",
       "      <td>69</td>\n",
       "    </tr>\n",
       "    <tr>\n",
       "      <th>16</th>\n",
       "      <td>68</td>\n",
       "    </tr>\n",
       "    <tr>\n",
       "      <th>17</th>\n",
       "      <td>30</td>\n",
       "    </tr>\n",
       "    <tr>\n",
       "      <th>18</th>\n",
       "      <td>32</td>\n",
       "    </tr>\n",
       "    <tr>\n",
       "      <th>19</th>\n",
       "      <td>35</td>\n",
       "    </tr>\n",
       "  </tbody>\n",
       "</table>\n",
       "</div>"
      ],
      "text/plain": [
       "    nomreh\n",
       "0      100\n",
       "1       98\n",
       "2       97\n",
       "3       95\n",
       "4       93\n",
       "5       90\n",
       "6       88\n",
       "7       85\n",
       "8       83\n",
       "9       82\n",
       "10      81\n",
       "11      79\n",
       "12      77\n",
       "13      75\n",
       "14      72\n",
       "15      69\n",
       "16      68\n",
       "17      30\n",
       "18      32\n",
       "19      35"
      ]
     },
     "execution_count": 24,
     "metadata": {},
     "output_type": "execute_result"
    }
   ],
   "source": [
    "cholegy = pd.read_excel('cholegy.xlsx')\n",
    "cholegy"
   ]
  },
  {
   "cell_type": "markdown",
   "id": "1b38f65e",
   "metadata": {},
   "source": [
    "# Question 6"
   ]
  },
  {
   "cell_type": "code",
   "execution_count": 25,
   "id": "bb0aedb2",
   "metadata": {},
   "outputs": [],
   "source": [
    "nomreh_normal = normal['nomreh']"
   ]
  },
  {
   "cell_type": "code",
   "execution_count": 26,
   "id": "f20be1fe",
   "metadata": {},
   "outputs": [
    {
     "data": {
      "text/plain": [
       "<AxesSubplot:ylabel='nomreh'>"
      ]
     },
     "execution_count": 26,
     "metadata": {},
     "output_type": "execute_result"
    },
    {
     "data": {
      "image/png": "[encoded data removed]",
      "text/plain": [
       "<Figure size 576x432 with 1 Axes>"
      ]
     },
     "metadata": {
      "needs_background": "light"
     },
     "output_type": "display_data"
    }
   ],
   "source": [
    "fig = plt.figure(figsize=(8,6))  \n",
    "sb.boxplot(y=nomreh_normal)"
   ]
  },
  {
   "cell_type": "code",
   "execution_count": 27,
   "id": "830976ed",
   "metadata": {},
   "outputs": [],
   "source": [
    "nomreh_cholegy = cholegy['nomreh']"
   ]
  },
  {
   "cell_type": "code",
   "execution_count": 28,
   "id": "469cd15d",
   "metadata": {},
   "outputs": [
    {
     "data": {
      "text/plain": [
       "<AxesSubplot:ylabel='nomreh'>"
      ]
     },
     "execution_count": 28,
     "metadata": {},
     "output_type": "execute_result"
    },
    {
     "data": {
      "image/png": "[encoded data removed]",
      "text/plain": [
       "<Figure size 720x576 with 1 Axes>"
      ]
     },
     "metadata": {
      "needs_background": "light"
     },
     "output_type": "display_data"
    }
   ],
   "source": [
    "fig = plt.figure(figsize=(10,8)) \n",
    "sb.boxplot(y=nomreh_cholegy)"
   ]
  },
  {
   "cell_type": "code",
   "execution_count": 29,
   "id": "657d5ea8",
   "metadata": {},
   "outputs": [
    {
     "data": {
      "text/plain": [
       "count     20.000000\n",
       "mean      76.450000\n",
       "std       21.214382\n",
       "min       30.000000\n",
       "25%       71.250000\n",
       "50%       81.500000\n",
       "75%       90.750000\n",
       "max      100.000000\n",
       "Name: nomreh, dtype: float64"
      ]
     },
     "execution_count": 29,
     "metadata": {},
     "output_type": "execute_result"
    }
   ],
   "source": [
    "nomreh_cholegy.describe()"
   ]
  },
  {
   "cell_type": "code",
   "execution_count": 30,
   "id": "0f20fd24",
   "metadata": {},
   "outputs": [
    {
     "data": {
      "text/plain": [
       "count    20.000000\n",
       "mean     41.500000\n",
       "std      15.150126\n",
       "min      17.000000\n",
       "25%      31.500000\n",
       "50%      42.500000\n",
       "75%      47.250000\n",
       "max      75.000000\n",
       "Name: nomreh, dtype: float64"
      ]
     },
     "execution_count": 30,
     "metadata": {},
     "output_type": "execute_result"
    }
   ],
   "source": [
    "nomreh_normal.describe()"
   ]
  },
  {
   "cell_type": "code",
   "execution_count": null,
   "id": "13a890d1",
   "metadata": {},
   "outputs": [],
   "source": []
  }
 ],
 "metadata": {
  "kernelspec": {
   "display_name": "Python 3 (ipykernel)",
   "language": "python",
   "name": "python3"
  },
  "language_info": {
   "codemirror_mode": {
    "name": "ipython",
    "version": 3
   },
   "file_extension": ".py",
   "mimetype": "text/x-python",
   "name": "python",
   "nbconvert_exporter": "python",
   "pygments_lexer": "ipython3",
   "version": "3.9.12"
  }
 },
 "nbformat": 4,
 "nbformat_minor": 5
}
